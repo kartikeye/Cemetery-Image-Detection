{
 "cells": [
  {
   "cell_type": "code",
   "execution_count": 4,
   "id": "dc4021ec",
   "metadata": {},
   "outputs": [],
   "source": [
    "import pandas as pd\n",
    "import numpy as np"
   ]
  },
  {
   "cell_type": "code",
   "execution_count": null,
   "id": "077798e3",
   "metadata": {},
   "outputs": [],
   "source": [
    "# Cemetery Image Detection using YOLO\n",
    "\n",
    "## Project Overview\n",
    "This notebook implements cemetery object detection using YOLO (You Only Look Once) to identify:\n",
    "- Headstones and grave markers\n",
    "- Cemetery structures (mausoleums, monuments)\n",
    "- Cemetery boundaries and pathways\n",
    "\n",
    "## Implementation Plan:\n",
    "1. **Environment Setup** - Install required libraries\n",
    "2. **Data Preparation** - Load and preprocess cemetery images\n",
    "3. **Model Configuration** - Set up YOLOv8/YOLOv5 model\n",
    "4. **Training Data Annotation** - Prepare labeled dataset\n",
    "5. **Model Training** - Train YOLO on cemetery data\n",
    "6. **Inference & Detection** - Test on cemetery images\n",
    "7. **Results Visualization** - Display detected objects with bounding boxes\n",
    "8. **Performance Evaluation** - Calculate accuracy metrics"
   ]
  },
  {
   "cell_type": "markdown",
   "id": "64312c9f",
   "metadata": {},
   "source": [
    "## Step 1: Install Required Libraries"
   ]
  },
  {
   "cell_type": "code",
   "execution_count": null,
   "id": "ab4f0cb1",
   "metadata": {},
   "outputs": [],
   "source": [
    "# Install YOLOv8 (Ultralytics)\n",
    "!pip install ultralytics\n",
    "\n",
    "# Install additional computer vision libraries\n",
    "!pip install opencv-python\n",
    "!pip install matplotlib\n",
    "!pip install pillow\n",
    "!pip install torch torchvision\n",
    "\n",
    "# For annotation tools (optional)\n",
    "!pip install labelImg"
   ]
  },
  {
   "cell_type": "markdown",
   "id": "33095179",
   "metadata": {},
   "source": [
    "## Step 2: Import Required Libraries"
   ]
  },
  {
   "cell_type": "code",
   "execution_count": null,
   "id": "25c7697f",
   "metadata": {},
   "outputs": [],
   "source": [
    "import pandas as pd\n",
    "import numpy as np\n",
    "import cv2\n",
    "import matplotlib.pyplot as plt\n",
    "from PIL import Image\n",
    "import os\n",
    "from pathlib import Path\n",
    "\n",
    "# YOLO specific imports\n",
    "from ultralytics import YOLO\n",
    "import torch\n",
    "\n",
    "# For visualization\n",
    "import seaborn as sns\n",
    "plt.style.use('default')\n",
    "\n",
    "# Check if CUDA is available\n",
    "print(f\"CUDA available: {torch.cuda.is_available()}\")\n",
    "print(f\"PyTorch version: {torch.__version__}\")\n",
    "\n",
    "# Set random seeds for reproducibility\n",
    "np.random.seed(42)\n",
    "torch.manual_seed(42)"
   ]
  },
  {
   "cell_type": "markdown",
   "id": "d1dee41b",
   "metadata": {},
   "source": [
    "## Step 3: Data Preparation and Image Loading\n",
    "\n",
    "For YOLO training, we need:\n",
    "1. **Images**: Your cemetery images\n",
    "2. **Annotations**: Bounding box labels in YOLO format\n",
    "3. **Dataset Structure**: Organized folders for training/validation\n",
    "\n",
    "### YOLO Annotation Format:\n",
    "Each image needs a corresponding `.txt` file with:\n",
    "- `class_id x_center y_center width height` (normalized coordinates 0-1)\n",
    "\n",
    "### Suggested Classes for Cemetery Detection:\n",
    "- 0: headstone\n",
    "- 1: grave_marker  \n",
    "- 2: mausoleum\n",
    "- 3: monument\n",
    "- 4: cemetery_path"
   ]
  },
  {
   "cell_type": "code",
   "execution_count": null,
   "id": "7e537cda",
   "metadata": {},
   "outputs": [],
   "source": [
    "# Load and display your cemetery images\n",
    "image_dir = Path(\".\")  # Current directory\n",
    "image_files = list(image_dir.glob(\"cemetry_image_*.png\"))\n",
    "\n",
    "print(f\"Found {len(image_files)} cemetery images:\")\n",
    "for img_file in image_files:\n",
    "    print(f\"- {img_file.name}\")\n",
    "\n",
    "# Display the images\n",
    "fig, axes = plt.subplots(1, len(image_files), figsize=(15, 8))\n",
    "if len(image_files) == 1:\n",
    "    axes = [axes]\n",
    "\n",
    "for i, img_path in enumerate(image_files):\n",
    "    img = cv2.imread(str(img_path))\n",
    "    img_rgb = cv2.cvtColor(img, cv2.COLOR_BGR2RGB)\n",
    "    \n",
    "    axes[i].imshow(img_rgb)\n",
    "    axes[i].set_title(f'{img_path.name}\\nShape: {img_rgb.shape}')\n",
    "    axes[i].axis('off')\n",
    "\n",
    "plt.tight_layout()\n",
    "plt.show()\n",
    "\n",
    "# Get image dimensions for reference\n",
    "for img_path in image_files:\n",
    "    img = cv2.imread(str(img_path))\n",
    "    height, width = img.shape[:2]\n",
    "    print(f\"{img_path.name}: {width}x{height} pixels\")"
   ]
  }
 ],
 "metadata": {
  "kernelspec": {
   "display_name": "Python 3",
   "language": "python",
   "name": "python3"
  },
  "language_info": {
   "codemirror_mode": {
    "name": "ipython",
    "version": 3
   },
   "file_extension": ".py",
   "mimetype": "text/x-python",
   "name": "python",
   "nbconvert_exporter": "python",
   "pygments_lexer": "ipython3",
   "version": "3.11.9"
  }
 },
 "nbformat": 4,
 "nbformat_minor": 5
}
